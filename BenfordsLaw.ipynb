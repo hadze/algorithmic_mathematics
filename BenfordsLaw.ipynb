{
 "cells": [
  {
   "cell_type": "markdown",
   "metadata": {},
   "source": [
    "## Benfordsches Gesetz"
   ]
  },
  {
   "cell_type": "markdown",
   "metadata": {},
   "source": [
    "\n",
    "Das Benfordsche Gesetz beschreibt die **Verteilung von Ziffern** in empirischen Datensätzen und beruht auf der Tatsache, dass die Ziffern in einem Zahlensystem hierarchisch aufeinander aufbauen: \n",
    "Es beginnt mit der 1, dann folgt die 2, dann die 3 usw... \n",
    "\n",
    "Laut Benfordschen Gesetz ist zu erwarten, dass die Ziffer 1 häufiger vorkommt als die 2, die wiederum häufiger vorkommt als die 3. Die Ziffer 9 kommt entsprechend verhältnismäßig am seltensten vor.\n",
    "\n",
    "Diese Vorhersagefähigkeit kann in Kombination mit bestimmten Naturgesetzen (z.B. dem natürlichen Wachstumsprozess \n",
    "--> energiesparend wachsen/überleben, etc.) oder Ökonomie (so günstig wie möglich einkaufen) wertvoll sein.\n",
    "\n",
    "Die Benford-Analyse ist im Grunde eine **Ausreißeranalyse**: \n",
    "Wir vergleichen die Verteilung der Ziffern in Datenbeständen mit der Erwartungshaltung, dass das Benfordsche Gesetz eingehalten wird - falls nicht, besteht zumindest Diskussionsbedarf.\n"
   ]
  },
  {
   "cell_type": "markdown",
   "metadata": {},
   "source": [
    "Die Wahrscheinlichkeit des Auftretens der ersten “anführenden” Ziffer d ist ein Logarithmus zur Basis B. \n",
    "Im alltäglichen Leben wird fast nur im Dezimalzahlensystem gearbeitet, also ist dort B = 10.\n",
    "\n",
    "\\begin{equation*}\n",
    "p(d)=\\log_{B}\\left( 1 +\\frac{1}{d} \\right)\n",
    "\\end{equation*}\n"
   ]
  },
  {
   "cell_type": "code",
   "execution_count": 1,
   "metadata": {},
   "outputs": [
    {
     "data": {
      "text/plain": [
       "[30.1, 17.6, 12.5, 9.7, 7.9, 6.7, 5.8, 5.1, 4.6]"
      ]
     },
     "execution_count": 1,
     "metadata": {},
     "output_type": "execute_result"
    }
   ],
   "source": [
    "import math\n",
    " \n",
    "[round(math.log10(1+1/float(i))*100.0, 1) for i in range(1,10)]"
   ]
  },
  {
   "cell_type": "code",
   "execution_count": 2,
   "metadata": {},
   "outputs": [
    {
     "data": {
      "text/plain": [
       "array([30.1, 17.6, 12.5,  9.7,  7.9,  6.7,  5.8,  5.1,  4.6])"
      ]
     },
     "execution_count": 2,
     "metadata": {},
     "output_type": "execute_result"
    }
   ],
   "source": [
    "import numpy as np\n",
    " \n",
    "x = np.arange(1,10)\n",
    "\n",
    "benford = np.round(np.log10(1+1/x) * 100.0, decimals=1) # apply logarithm\n",
    "benford"
   ]
  },
  {
   "cell_type": "code",
   "execution_count": 3,
   "metadata": {},
   "outputs": [
    {
     "data": {
      "text/html": [
       "<div>\n",
       "<style scoped>\n",
       "    .dataframe tbody tr th:only-of-type {\n",
       "        vertical-align: middle;\n",
       "    }\n",
       "\n",
       "    .dataframe tbody tr th {\n",
       "        vertical-align: top;\n",
       "    }\n",
       "\n",
       "    .dataframe thead th {\n",
       "        text-align: right;\n",
       "    }\n",
       "</style>\n",
       "<table border=\"1\" class=\"dataframe\">\n",
       "  <thead>\n",
       "    <tr style=\"text-align: right;\">\n",
       "      <th></th>\n",
       "      <th>Digit</th>\n",
       "      <th>Benfords Law</th>\n",
       "    </tr>\n",
       "  </thead>\n",
       "  <tbody>\n",
       "    <tr>\n",
       "      <th>0</th>\n",
       "      <td>1</td>\n",
       "      <td>30.1</td>\n",
       "    </tr>\n",
       "    <tr>\n",
       "      <th>1</th>\n",
       "      <td>2</td>\n",
       "      <td>17.6</td>\n",
       "    </tr>\n",
       "    <tr>\n",
       "      <th>2</th>\n",
       "      <td>3</td>\n",
       "      <td>12.5</td>\n",
       "    </tr>\n",
       "    <tr>\n",
       "      <th>3</th>\n",
       "      <td>4</td>\n",
       "      <td>9.7</td>\n",
       "    </tr>\n",
       "    <tr>\n",
       "      <th>4</th>\n",
       "      <td>5</td>\n",
       "      <td>7.9</td>\n",
       "    </tr>\n",
       "    <tr>\n",
       "      <th>5</th>\n",
       "      <td>6</td>\n",
       "      <td>6.7</td>\n",
       "    </tr>\n",
       "    <tr>\n",
       "      <th>6</th>\n",
       "      <td>7</td>\n",
       "      <td>5.8</td>\n",
       "    </tr>\n",
       "    <tr>\n",
       "      <th>7</th>\n",
       "      <td>8</td>\n",
       "      <td>5.1</td>\n",
       "    </tr>\n",
       "    <tr>\n",
       "      <th>8</th>\n",
       "      <td>9</td>\n",
       "      <td>4.6</td>\n",
       "    </tr>\n",
       "  </tbody>\n",
       "</table>\n",
       "</div>"
      ],
      "text/plain": [
       "   Digit  Benfords Law\n",
       "0      1          30.1\n",
       "1      2          17.6\n",
       "2      3          12.5\n",
       "3      4           9.7\n",
       "4      5           7.9\n",
       "5      6           6.7\n",
       "6      7           5.8\n",
       "7      8           5.1\n",
       "8      9           4.6"
      ]
     },
     "execution_count": 3,
     "metadata": {},
     "output_type": "execute_result"
    }
   ],
   "source": [
    "import pandas as pd\n",
    " \n",
    "benfordFrame = pd.DataFrame({'Digit': x, 'Benfords Law': benford})\n",
    "benfordFrame\n"
   ]
  },
  {
   "cell_type": "code",
   "execution_count": 4,
   "metadata": {},
   "outputs": [
    {
     "data": {
      "text/plain": [
       "<matplotlib.axes._subplots.AxesSubplot at 0x7f8c04c24050>"
      ]
     },
     "execution_count": 4,
     "metadata": {},
     "output_type": "execute_result"
    },
    {
     "data": {
      "image/png": "[encoded data removed]",
      "text/plain": [
       "<Figure size 432x288 with 1 Axes>"
      ]
     },
     "metadata": {
      "needs_background": "light"
     },
     "output_type": "display_data"
    }
   ],
   "source": [
    "benfordFrame.plot('Digit', 'Benfords Law', kind='bar', title='Benford', legend=False)\n"
   ]
  },
  {
   "cell_type": "markdown",
   "metadata": {},
   "source": [
    "## Analyse von \"echten\" Daten"
   ]
  },
  {
   "cell_type": "markdown",
   "metadata": {},
   "source": [
    "Bei der folgenden Datenquelle handelt es sich um die Punkteverteilung einer Mathe-Klausur. Diese Verteilung folgt aus verschiedenen Gründen nicht einer Benfordschen Gesetzmäßigkeit. Hier soll nur der Versuch gezeigt werden wie man \"echte\" Datensätze aus einer Datei mit einer optimalen Benfordschen Verteilung grafisch vergleichen kann. Bei den \"echten\" Daten ist zudem auch das Vorkommen der Punkte 44 und 4 künstlich erhöht worden (zu sehen an dem Ausschlag)"
   ]
  },
  {
   "cell_type": "code",
   "execution_count": 15,
   "metadata": {},
   "outputs": [],
   "source": [
    "grades = np.loadtxt(\"grades.csv\", skiprows=1)\n",
    "gradesFrame = pd.DataFrame({'Percentage':grades})\n",
    "firstDigits = [str(value)[0:1] for value in gradesFrame['Percentage']]"
   ]
  },
  {
   "cell_type": "code",
   "execution_count": 33,
   "metadata": {},
   "outputs": [
    {
     "data": {
      "text/plain": [
       "99.26470588235294"
      ]
     },
     "execution_count": 33,
     "metadata": {},
     "output_type": "execute_result"
    }
   ],
   "source": [
    "#consider only firstDigits != 0\n",
    "percentDigits = np.asarray([[i, firstDigits.count(str(i))/float(len(gradesFrame['Percentage']))*100] for i in range(1, 10)])\n",
    "percentDigits.T[1].sum()"
   ]
  },
  {
   "cell_type": "code",
   "execution_count": 34,
   "metadata": {},
   "outputs": [
    {
     "data": {
      "text/plain": [
       "100.0"
      ]
     },
     "execution_count": 34,
     "metadata": {},
     "output_type": "execute_result"
    }
   ],
   "source": [
    "#consider all firstDigits including 0 (e.g. you have 0x-values)\n",
    "percentDigits = np.asarray([[i, firstDigits.count(str(i))/float(len(gradesFrame['Percentage']))*100] for i in range(0, 10)])\n",
    "percentDigits.T[1].sum()"
   ]
  },
  {
   "cell_type": "code",
   "execution_count": 35,
   "metadata": {},
   "outputs": [],
   "source": [
    "#create 2nd dataframe\n",
    "percentDigitsFrame = pd.DataFrame({'Digit':percentDigits[:,0], 'Real Distribution':percentDigits[:,1]})"
   ]
  },
  {
   "cell_type": "code",
   "execution_count": 32,
   "metadata": {},
   "outputs": [
    {
     "data": {
      "image/png": "[encoded data removed]",
      "text/plain": [
       "<Figure size 432x288 with 2 Axes>"
      ]
     },
     "metadata": {
      "needs_background": "light"
     },
     "output_type": "display_data"
    }
   ],
   "source": [
    "#comparison of the digit frequency with the expectation\n",
    "\n",
    "import matplotlib.pyplot as pyplot \n",
    " \n",
    "fig = pyplot.figure()\n",
    " \n",
    "ax = fig.add_subplot(111)\n",
    "ax2 = ax.twinx()\n",
    " \n",
    "percentDigitsFrame.plot('Digit', 'Real Distribution', kind='bar', ax=ax2, width = 0.5, color=\"green\", position=0, legend=False)\n",
    "benfordFrame.plot('Digit', 'Benfords Law', kind='bar', ax=ax, width = 0.5, color=\"blue\", position=1, legend=False)\n",
    " \n",
    "lines, labels = ax.get_legend_handles_labels()\n",
    "lines2, labels2 = ax2.get_legend_handles_labels()\n",
    "ax2.legend(lines + lines2, labels + labels2, loc=0)\n",
    " \n",
    "ax.set_ylim(1,35)\n",
    "ax2.set_ylim(1,35)\n",
    " \n",
    "pyplot.show()"
   ]
  },
  {
   "cell_type": "code",
   "execution_count": null,
   "metadata": {},
   "outputs": [],
   "source": []
  }
 ],
 "metadata": {
  "kernelspec": {
   "display_name": "Python 3",
   "language": "python",
   "name": "python3"
  },
  "language_info": {
   "codemirror_mode": {
    "name": "ipython",
    "version": 3
   },
   "file_extension": ".py",
   "mimetype": "text/x-python",
   "name": "python",
   "nbconvert_exporter": "python",
   "pygments_lexer": "ipython3",
   "version": "3.7.7"
  },
  "varInspector": {
   "cols": {
    "lenName": 16,
    "lenType": 16,
    "lenVar": 40
   },
   "kernels_config": {
    "python": {
     "delete_cmd_postfix": "",
     "delete_cmd_prefix": "del ",
     "library": "var_list.py",
     "varRefreshCmd": "print(var_dic_list())"
    },
    "r": {
     "delete_cmd_postfix": ") ",
     "delete_cmd_prefix": "rm(",
     "library": "var_list.r",
     "varRefreshCmd": "cat(var_dic_list()) "
    }
   },
   "types_to_exclude": [
    "module",
    "function",
    "builtin_function_or_method",
    "instance",
    "_Feature"
   ],
   "window_display": false
  }
 },
 "nbformat": 4,
 "nbformat_minor": 4
}
