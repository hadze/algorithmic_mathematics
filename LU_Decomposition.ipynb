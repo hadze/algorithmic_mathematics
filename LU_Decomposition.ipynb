{
 "cells": [
  {
   "cell_type": "markdown",
   "metadata": {},
   "source": [
    "# LU-Decomposition"
   ]
  },
  {
   "cell_type": "markdown",
   "metadata": {},
   "source": [
    "#### LU-decomposition factors a matrix as the product of a lower triangular matrix and an upper triangular matrix. The LU decomposition was introduced by Tadeusz Banachiewicz."
   ]
  },
  {
   "cell_type": "code",
   "execution_count": 4,
   "metadata": {
    "code_folding": []
   },
   "outputs": [],
   "source": [
    "# Program to decompose  \n",
    "# a matrix into a lower and \n",
    "# an upper triangular matrix \n",
    "\n",
    "#MAX = 100; \n",
    "  \n",
    "def luDecomposition(matrix, n): \n",
    "  \n",
    "    lower = [[0 for x in range(n)]  \n",
    "                for y in range(n)]; \n",
    "    upper = [[0 for x in range(n)]  \n",
    "                for y in range(n)]; \n",
    "                  \n",
    "    # Decomposing matrix into Upper / Lower triangular matrix \n",
    "    for i in range(n): \n",
    "  \n",
    "        # Upper Triangular \n",
    "        for k in range(i, n):  \n",
    "  \n",
    "            # Summation of L(i, j) * U(j, k) \n",
    "            sum = 0; \n",
    "            for j in range(i): \n",
    "                sum += (lower[i][j] * upper[j][k]); \n",
    "  \n",
    "            # Evaluating U(i, k) \n",
    "            upper[i][k] = matrix[i][k] - sum; \n",
    "  \n",
    "        # Lower Triangular \n",
    "        for k in range(i, n): \n",
    "            if (i == k): \n",
    "                lower[i][i] = 1; # Diagonal as 1 \n",
    "            else: \n",
    "  \n",
    "                # Summation of L(k, j) * U(j, i) \n",
    "                sum = 0; \n",
    "                for j in range(i): \n",
    "                    sum += (lower[k][j] * upper[j][i]); \n",
    "  \n",
    "                # Evaluating L(k, i) \n",
    "                lower[k][i] = int((matrix[k][i] - sum) /\n",
    "                                       upper[i][i]); \n",
    "\n",
    "    print(\"Lower Triangular\\t\\tUpper Triangular\"); \n",
    "  \n",
    "    # Displaying the result : \n",
    "    for i in range(n): \n",
    "          \n",
    "        # Lower \n",
    "        for j in range(n): \n",
    "            print(lower[i][j], end = \"\\t\");  \n",
    "        print(\"\", end = \"\\t\"); \n",
    "  \n",
    "        # Upper \n",
    "        for j in range(n): \n",
    "            print(upper[i][j], end = \"\\t\"); \n",
    "        print(\"\"); "
   ]
  },
  {
   "cell_type": "code",
   "execution_count": 5,
   "metadata": {},
   "outputs": [
    {
     "name": "stdout",
     "output_type": "stream",
     "text": [
      "Lower Triangular\t\tUpper Triangular\n",
      "1\t0\t0\t\t2\t-1\t-2\t\n",
      "-2\t1\t0\t\t0\t4\t-1\t\n",
      "-2\t-1\t1\t\t0\t0\t3\t\n"
     ]
    }
   ],
   "source": [
    "#Main\n",
    "matrix = [[5, -3, -2], \n",
    "       [-9, 1, 4], \n",
    "       [-4, 3, 7]]; \n",
    "  \n",
    "luDecomposition(matrix, 3); "
   ]
  },
  {
   "cell_type": "code",
   "execution_count": null,
   "metadata": {},
   "outputs": [],
   "source": []
  }
 ],
 "metadata": {
  "kernelspec": {
   "display_name": "Python 3",
   "language": "python",
   "name": "python3"
  },
  "language_info": {
   "codemirror_mode": {
    "name": "ipython",
    "version": 3
   },
   "file_extension": ".py",
   "mimetype": "text/x-python",
   "name": "python",
   "nbconvert_exporter": "python",
   "pygments_lexer": "ipython3",
   "version": "3.7.7"
  },
  "varInspector": {
   "cols": {
    "lenName": 16,
    "lenType": 16,
    "lenVar": 40
   },
   "kernels_config": {
    "python": {
     "delete_cmd_postfix": "",
     "delete_cmd_prefix": "del ",
     "library": "var_list.py",
     "varRefreshCmd": "print(var_dic_list())"
    },
    "r": {
     "delete_cmd_postfix": ") ",
     "delete_cmd_prefix": "rm(",
     "library": "var_list.r",
     "varRefreshCmd": "cat(var_dic_list()) "
    }
   },
   "types_to_exclude": [
    "module",
    "function",
    "builtin_function_or_method",
    "instance",
    "_Feature"
   ],
   "window_display": false
  }
 },
 "nbformat": 4,
 "nbformat_minor": 4
}
