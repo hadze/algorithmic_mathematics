{
 "cells": [
  {
   "cell_type": "markdown",
   "metadata": {},
   "source": [
    "# Geburtstagsparadoxon"
   ]
  },
  {
   "cell_type": "markdown",
   "metadata": {},
   "source": [
    "<span style=\"font-weight: bold\">Mit diesem Snippet können wir beantworten, bei wie vielen Personen die Wahrscheinlichkeit X beträgt, dass mindestens 2 von Ihnen am selben Tag Geburtstag haben: Damit alle ben&ouml;tigten Pakete richtig eingebunden werden, müssen die nächsten Zellen einmal ausgeführt werden.</span>"
   ]
  },
  {
   "cell_type": "code",
   "execution_count": 1,
   "metadata": {},
   "outputs": [],
   "source": [
    "import numpy as np \n",
    "import matplotlib.pyplot as plt\n",
    "from numpy import random\n",
    "\n",
    "random.seed(0)"
   ]
  },
  {
   "cell_type": "markdown",
   "metadata": {},
   "source": []
  },
  {
   "cell_type": "code",
   "execution_count": 2,
   "metadata": {},
   "outputs": [],
   "source": [
    "def calcbirthdaychance(size=32,k=2):\n",
    "    d = 365\n",
    "    P = np.ones(size)\n",
    "           \n",
    "    for n in range(size):     \n",
    "        for i in range(n):\n",
    "            P[n] = P[n] * (d - i + 1) / d        \n",
    "        P[n] = (1 - P[n]) * 100\n",
    "    \n",
    "    return P\n",
    "            "
   ]
  },
  {
   "cell_type": "code",
   "execution_count": 3,
   "metadata": {},
   "outputs": [
    {
     "name": "stdout",
     "output_type": "stream",
     "text": [
      "[ 0.00000000e+00 -2.73972603e-01 -2.73972603e-01  7.50609871e-04\n",
      "  5.48691702e-01  1.36609972e+00  2.44701917e+00  3.78336137e+00\n",
      "  5.36500475e+00  7.17992247e+00  9.21433512e+00  1.14528858e+01\n",
      "  1.38788341e+01  1.64742665e+01  1.92203180e+01  2.20974026e+01\n",
      "  2.50854474e+01  2.81641277e+01  3.13130974e+01  3.45122134e+01\n",
      "  3.77417481e+01  4.09825886e+01  4.42164194e+01  4.74258856e+01\n",
      "  5.05947364e+01  5.37079448e+01  5.67518059e+01  5.97140110e+01\n",
      "  6.25836979e+01  6.53514791e+01  6.80094479e+01  7.05511630e+01\n",
      "  7.29716153e+01  7.52671768e+01  7.74355339e+01  7.94756089e+01\n",
      "  8.13874700e+01  8.31722331e+01  8.48319581e+01  8.63695404e+01\n",
      "  8.77886020e+01  8.90933815e+01  9.02886273e+01  9.13794939e+01\n",
      "  9.23714425e+01  9.32701493e+01  9.40814190e+01  9.48111070e+01\n",
      "  9.54650497e+01  9.60490022e+01]\n"
     ]
    }
   ],
   "source": [
    "c = calcbirthdaychance(50,2)\n",
    "print(c)\n"
   ]
  },
  {
   "cell_type": "code",
   "execution_count": 4,
   "metadata": {},
   "outputs": [
    {
     "data": {
      "image/png": "[encoded data removed]",
      "text/plain": [
       "<Figure size 432x288 with 1 Axes>"
      ]
     },
     "metadata": {
      "needs_background": "light"
     },
     "output_type": "display_data"
    }
   ],
   "source": [
    "plt.plot(c)\n",
    "plt.show()\n",
    "\n",
    "# x-axis: persons\n",
    "# y-axis: probability [%]"
   ]
  },
  {
   "cell_type": "markdown",
   "metadata": {},
   "source": [
    "<span style=\"font-weight: bold\">Aus der Visualisierung kann man herauslesen, dass bei bereits ca. 23 Personen eine Wahrscheinlichkeit von 50% erreicht wird. Ab 60 Personen liegt die Wahrscheinlichkeit bereits sehr nah bei 100%</span>"
   ]
  },
  {
   "cell_type": "code",
   "execution_count": null,
   "metadata": {},
   "outputs": [],
   "source": []
  }
 ],
 "metadata": {
  "anaconda-cloud": {},
  "kernelspec": {
   "display_name": "Python 3",
   "language": "python",
   "name": "python3"
  },
  "language_info": {
   "codemirror_mode": {
    "name": "ipython",
    "version": 3
   },
   "file_extension": ".py",
   "mimetype": "text/x-python",
   "name": "python",
   "nbconvert_exporter": "python",
   "pygments_lexer": "ipython3",
   "version": "3.7.7"
  },
  "varInspector": {
   "cols": {
    "lenName": 16,
    "lenType": 16,
    "lenVar": 40
   },
   "kernels_config": {
    "python": {
     "delete_cmd_postfix": "",
     "delete_cmd_prefix": "del ",
     "library": "var_list.py",
     "varRefreshCmd": "print(var_dic_list())"
    },
    "r": {
     "delete_cmd_postfix": ") ",
     "delete_cmd_prefix": "rm(",
     "library": "var_list.r",
     "varRefreshCmd": "cat(var_dic_list()) "
    }
   },
   "types_to_exclude": [
    "module",
    "function",
    "builtin_function_or_method",
    "instance",
    "_Feature"
   ],
   "window_display": false
  },
  "widgets": {
   "state": {
    "dc3a3f1d23314758bf356f952c03d594": {
     "views": [
      {
       "cell_index": 4
      }
     ]
    }
   },
   "version": "1.2.0"
  }
 },
 "nbformat": 4,
 "nbformat_minor": 1
}
